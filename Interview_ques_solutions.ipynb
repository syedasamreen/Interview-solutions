{
 "cells": [
  {
   "cell_type": "code",
   "execution_count": 2,
   "id": "f47e0e90",
   "metadata": {},
   "outputs": [
    {
     "data": {
      "text/plain": [
       "{0, 9}"
      ]
     },
     "execution_count": 2,
     "metadata": {},
     "output_type": "execute_result"
    }
   ],
   "source": [
    "x= [1,5,9,0]\n",
    "y =[3,0,2,9]\n",
    "set(y).intersection(x)"
   ]
  },
  {
   "cell_type": "code",
   "execution_count": 8,
   "id": "c19e0fae",
   "metadata": {},
   "outputs": [
    {
     "name": "stdout",
     "output_type": "stream",
     "text": [
      "[1, 2, 3]\n"
     ]
    }
   ],
   "source": [
    "set1 = set()\n",
    "res = []\n",
    "list1 = [1,2,3,1,2,6,5,3]\n",
    "for i in list1:\n",
    "    if i in set1:\n",
    "        res.append(i)\n",
    "    else:\n",
    "        set1.add(i)\n",
    "print(res)"
   ]
  },
  {
   "cell_type": "code",
   "execution_count": 21,
   "id": "bd9c3a48",
   "metadata": {},
   "outputs": [
    {
     "data": {
      "text/plain": [
       "36"
      ]
     },
     "execution_count": 21,
     "metadata": {},
     "output_type": "execute_result"
    }
   ],
   "source": [
    "import heapq\n",
    "def max_three(arr):\n",
    "    a = heapq.nlargest(3,arr)\n",
    "    b =heapq.nsmallest(2,arr)\n",
    "    return max(a[2]*a[1]*a[0], b[1]*b[0]*a[0])\n",
    "max_three([1,2,3,6])"
   ]
  },
  {
   "cell_type": "code",
   "execution_count": 23,
   "id": "c6a2ac3b",
   "metadata": {},
   "outputs": [
    {
     "data": {
      "text/plain": [
       "[6, 3, 2]"
      ]
     },
     "execution_count": 23,
     "metadata": {},
     "output_type": "execute_result"
    }
   ],
   "source": [
    "arr = [1,2,3,6]\n",
    "a = heapq.nlargest(3,arr)\n",
    "a"
   ]
  },
  {
   "cell_type": "code",
   "execution_count": 24,
   "id": "4907c267",
   "metadata": {},
   "outputs": [
    {
     "data": {
      "text/plain": [
       "[1, 2]"
      ]
     },
     "execution_count": 24,
     "metadata": {},
     "output_type": "execute_result"
    }
   ],
   "source": [
    "b =heapq.nsmallest(2,arr);b"
   ]
  },
  {
   "cell_type": "code",
   "execution_count": 25,
   "id": "7c112160",
   "metadata": {},
   "outputs": [
    {
     "data": {
      "text/plain": [
       "36"
      ]
     },
     "execution_count": 25,
     "metadata": {},
     "output_type": "execute_result"
    }
   ],
   "source": [
    "a[2]*a[1]*a[0]"
   ]
  },
  {
   "cell_type": "code",
   "execution_count": 26,
   "id": "884e7369",
   "metadata": {},
   "outputs": [
    {
     "data": {
      "text/plain": [
       "12"
      ]
     },
     "execution_count": 26,
     "metadata": {},
     "output_type": "execute_result"
    }
   ],
   "source": [
    "b[1]*b[0]*a[0]"
   ]
  },
  {
   "cell_type": "code",
   "execution_count": 27,
   "id": "82221679",
   "metadata": {},
   "outputs": [],
   "source": [
    "def max_subarray(arr):\n",
    "    n = len(arr)\n",
    "    max_sum = arr[0]\n",
    "    curr_sum = 0\n",
    "    for i in range(n):\n",
    "        curr_sum += arr[i]\n",
    "        max_sum =max(max_sum,curr_sum)\n",
    "        if curr_sum < 0:\n",
    "            curr_sum = 0\n",
    "    return max_sum"
   ]
  },
  {
   "cell_type": "code",
   "execution_count": 30,
   "id": "7b602cc7",
   "metadata": {},
   "outputs": [
    {
     "data": {
      "text/plain": [
       "20"
      ]
     },
     "execution_count": 30,
     "metadata": {},
     "output_type": "execute_result"
    }
   ],
   "source": [
    "max_subarray([0,-1,-2,5,6,9])"
   ]
  },
  {
   "cell_type": "code",
   "execution_count": 37,
   "id": "6ef49535",
   "metadata": {},
   "outputs": [],
   "source": [
    "from itertools import combinations\n",
    "def find_combi(k,n):\n",
    "    list_num = []\n",
    "    comb = combinations([x for x in range(1,n+1)],k)\n",
    "    for i in comb:\n",
    "        list_num.append(i)\n",
    "    return list_num"
   ]
  },
  {
   "cell_type": "code",
   "execution_count": 40,
   "id": "718ad7e5",
   "metadata": {},
   "outputs": [
    {
     "data": {
      "text/plain": [
       "[(1, 2), (1, 3), (1, 4), (2, 3), (2, 4), (3, 4)]"
      ]
     },
     "execution_count": 40,
     "metadata": {},
     "output_type": "execute_result"
    }
   ],
   "source": [
    "find_combi(2,4)"
   ]
  },
  {
   "cell_type": "code",
   "execution_count": 41,
   "id": "7ca1a865",
   "metadata": {},
   "outputs": [],
   "source": [
    "# prob of getting median > 1.5\n",
    "import numpy as np\n",
    "def monte_carlo(n):\n",
    "    count = 0\n",
    "    for _ in range(n):\n",
    "        arr = np.random.uniform(0,2,3)\n",
    "        med = np.median(arr)\n",
    "        if med>1.5:\n",
    "            count+=1\n",
    "    return count/n"
   ]
  },
  {
   "cell_type": "code",
   "execution_count": 42,
   "id": "d4b16bbb",
   "metadata": {},
   "outputs": [
    {
     "data": {
      "text/plain": [
       "0.156295"
      ]
     },
     "execution_count": 42,
     "metadata": {},
     "output_type": "execute_result"
    }
   ],
   "source": [
    "monte_carlo(10**6)"
   ]
  },
  {
   "cell_type": "code",
   "execution_count": null,
   "id": "191f47fc",
   "metadata": {},
   "outputs": [],
   "source": []
  }
 ],
 "metadata": {
  "kernelspec": {
   "display_name": "Python 3 (ipykernel)",
   "language": "python",
   "name": "python3"
  },
  "language_info": {
   "codemirror_mode": {
    "name": "ipython",
    "version": 3
   },
   "file_extension": ".py",
   "mimetype": "text/x-python",
   "name": "python",
   "nbconvert_exporter": "python",
   "pygments_lexer": "ipython3",
   "version": "3.8.10"
  }
 },
 "nbformat": 4,
 "nbformat_minor": 5
}
